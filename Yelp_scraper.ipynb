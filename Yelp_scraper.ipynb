{
 "cells": [
  {
   "cell_type": "code",
   "execution_count": 1,
   "id": "threaded-edwards",
   "metadata": {},
   "outputs": [],
   "source": [
    "from selenium import webdriver\n",
    "from selenium.webdriver.chrome.options import Options\n",
    "from selenium.common.exceptions import NoSuchElementException\n",
    "from selenium.webdriver.common.keys import Keys\n",
    "from selenium.webdriver.common.by import By\n",
    "from selenium.webdriver.support.ui import Select\n",
    "from Yelp_scraper import yelp_search_page\n",
    "from Yelp_scraper import yelp_store_page\n",
    "from tqdm import tqdm\n",
    "import time\n",
    "import csv\n",
    "import json\n",
    "\n",
    "def init_driver(driver_path):\n",
    "    '''\n",
    "    Get Selenium driver\n",
    "    Parameters: None\n",
    "    Return: Selenium webdriver element\n",
    "    '''\n",
    "    opts = Options()\n",
    "\n",
    "    opts.add_argument(\"user_agent = Mozilla/5.0 (Macintosh; Intel Mac OS X 10_10_2) AppleWebKit/537.36 (KHTML, like Gecko) Chrome/81.0.4044.20 Safari/537.36\")\n",
    "    opts.add_argument(\"--disable-notifications\")\n",
    "    #opts.add_argument('--headless')\n",
    "    #opts.add_argument(\"--window-size=720,1080\")\n",
    "    opts.add_argument(\"--lang=en\")\n",
    "    opts.add_argument('--no-sandbox')\n",
    "    opts.add_argument(\"--disable-dev-shm-usage\")\n",
    "    opts.add_argument('disable_infobars')\n",
    "    drive = webdriver.Chrome(driver_path, options=opts)\n",
    "        \n",
    "    return drive\n"
   ]
  },
  {
   "cell_type": "code",
   "execution_count": 2,
   "id": "stunning-guatemala",
   "metadata": {},
   "outputs": [],
   "source": [
    "drive_path = 'C:/Users/ljw15/chromedrive99/chromedriver'  #########input the path for chrome driver\n",
    "driver = init_driver(drive_path)"
   ]
  },
  {
   "cell_type": "markdown",
   "id": "vocal-demographic",
   "metadata": {},
   "source": [
    "## 1. Choose the store name and store address want to search"
   ]
  },
  {
   "cell_type": "code",
   "execution_count": 3,
   "id": "authentic-parliament",
   "metadata": {},
   "outputs": [],
   "source": [
    "#######initialize serach page\n",
    "search_page = yelp_search_page(driver)  ########used for yelps earch page"
   ]
  },
  {
   "cell_type": "code",
   "execution_count": 4,
   "id": "completed-washington",
   "metadata": {},
   "outputs": [
    {
     "name": "stdout",
     "output_type": "stream",
     "text": [
      "False\n"
     ]
    }
   ],
   "source": [
    "store_name = 'addison'\n",
    "store_address = 'La Jolla'\n",
    "search_page.search(store_name,store_address)\n",
    "\n",
    "print(search_page.has_no_result()) #see whether there are result return  \n",
    "                                   # True: No result return\n",
    "                                   # False: There are result"
   ]
  },
  {
   "cell_type": "markdown",
   "id": "encouraging-airport",
   "metadata": {},
   "source": [
    "### a.Call get_store_list() to get all store information under this search term"
   ]
  },
  {
   "cell_type": "code",
   "execution_count": 5,
   "id": "handed-framework",
   "metadata": {},
   "outputs": [],
   "source": [
    "store_list = search_page.get_store_list()"
   ]
  },
  {
   "cell_type": "markdown",
   "id": "everyday-jungle",
   "metadata": {},
   "source": [
    "### b.get_store_list() return a list of store information with basic features:\n",
    "##### link, name, address, attribute"
   ]
  },
  {
   "cell_type": "code",
   "execution_count": 8,
   "id": "blocked-battery",
   "metadata": {},
   "outputs": [
    {
     "data": {
      "text/plain": [
       "{'link': 'https://www.yelp.com/biz/swagyu-chop-shop-pacific-beach-san-diego?osq=addison',\n",
       " 'name': 'Swagyu Chop Shop Pacific Beach',\n",
       " 'address': '966 Felspar St',\n",
       " 'attribute': '$$Butcher, Steakhouses, American (New)'}"
      ]
     },
     "execution_count": 8,
     "metadata": {},
     "output_type": "execute_result"
    }
   ],
   "source": [
    "#########these are information return from search page like https://www.yelp.com/search?find_desc=addison&find_loc=San+Diego%2C+CA+92101 \n",
    "#########for each store\n",
    "store_list[11]"
   ]
  },
  {
   "cell_type": "markdown",
   "id": "comic-sheriff",
   "metadata": {},
   "source": [
    "## 2.Scrape detail information from one store page"
   ]
  },
  {
   "cell_type": "code",
   "execution_count": 3,
   "id": "earned-consolidation",
   "metadata": {},
   "outputs": [],
   "source": [
    "######### create store page object\n",
    "store_page = yelp_store_page(driver)    ########used for yelp individual store page"
   ]
  },
  {
   "cell_type": "markdown",
   "id": "thousand-photographer",
   "metadata": {},
   "source": [
    "### a. Scrape store detail info"
   ]
  },
  {
   "cell_type": "code",
   "execution_count": 4,
   "id": "mental-vanilla",
   "metadata": {},
   "outputs": [],
   "source": [
    "link = 'https://www.yelp.com/biz/swagyu-chop-shop-pacific-beach-san-diego?osq=addison'\n",
    "######### get store detail information\n",
    "detail_data = store_page.get_store_info(link)"
   ]
  },
  {
   "cell_type": "code",
   "execution_count": 5,
   "id": "generic-yahoo",
   "metadata": {},
   "outputs": [
    {
     "data": {
      "text/plain": [
       "{'link': 'https://www.yelp.com/biz/swagyu-chop-shop-pacific-beach-san-diego?osq=addison',\n",
       " 'name': 'Swagyu Chop Shop Pacific Beach',\n",
       " 'rate': '4 star rating',\n",
       " 'num_reviewer': '124 reviews',\n",
       " 'price': '$$',\n",
       " 'attribute': ['Butcher', 'Steakhouses', 'American (New)'],\n",
       " 'is_claimed': True,\n",
       " 'coordinate': {'latitude': '32.798547', 'longitude': '-117.252616'},\n",
       " 'address': '966 Felspar St,San Diego, CA 92109'}"
      ]
     },
     "execution_count": 5,
     "metadata": {},
     "output_type": "execute_result"
    }
   ],
   "source": [
    "detail_data"
   ]
  },
  {
   "cell_type": "markdown",
   "id": "innocent-norman",
   "metadata": {},
   "source": [
    "### b. Scrape comments detail info"
   ]
  },
  {
   "cell_type": "code",
   "execution_count": 6,
   "id": "guilty-string",
   "metadata": {},
   "outputs": [
    {
     "name": "stdout",
     "output_type": "stream",
     "text": [
      "Message: no such element: Unable to locate element: {\"method\":\"css selector\",\"selector\":\"a[class ^= 'next-link']\"}\n",
      "  (Session info: chrome=100.0.4896.60)\n",
      "\n",
      "Reach final page\n"
     ]
    }
   ],
   "source": [
    "###############get all comments under this store\n",
    "comments_list = store_page.get_comments_list()"
   ]
  },
  {
   "cell_type": "code",
   "execution_count": 7,
   "id": "printable-advocacy",
   "metadata": {},
   "outputs": [
    {
     "data": {
      "text/plain": [
       "{'user_name': 'Nicolas C.',\n",
       " 'user_url': 'https://www.yelp.com/user_details?userid=ybOICKNLA5tlG7ZIwu_Ggw',\n",
       " 'user_location': 'Grantville, San Diego, CA',\n",
       " 'text': 'This place is amazing the burgers are so worth it!! I will definitely be coming back here!',\n",
       " 'rate': '5',\n",
       " 'time': '1/7/2022',\n",
       " 'funny': 0,\n",
       " 'useful': 0,\n",
       " 'cool': 0}"
      ]
     },
     "execution_count": 7,
     "metadata": {},
     "output_type": "execute_result"
    }
   ],
   "source": [
    "comments_list[100]"
   ]
  }
 ],
 "metadata": {
  "kernelspec": {
   "display_name": "Python 3",
   "language": "python",
   "name": "python3"
  },
  "language_info": {
   "codemirror_mode": {
    "name": "ipython",
    "version": 3
   },
   "file_extension": ".py",
   "mimetype": "text/x-python",
   "name": "python",
   "nbconvert_exporter": "python",
   "pygments_lexer": "ipython3",
   "version": "3.7.4"
  }
 },
 "nbformat": 4,
 "nbformat_minor": 5
}
